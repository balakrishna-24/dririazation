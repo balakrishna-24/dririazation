{
  "nbformat": 4,
  "nbformat_minor": 0,
  "metadata": {
    "colab": {
      "provenance": [],
      "authorship_tag": "ABX9TyOrLXl/xoiUutdVPFHNoalh",
      "include_colab_link": true
    },
    "kernelspec": {
      "name": "python3",
      "display_name": "Python 3"
    },
    "language_info": {
      "name": "python"
    }
  },
  "cells": [
    {
      "cell_type": "markdown",
      "metadata": {
        "id": "view-in-github",
        "colab_type": "text"
      },
      "source": [
        "<a href=\"https://colab.research.google.com/github/balakrishna-24/dririazation/blob/main/Deepgram_Diarization.ipynb\" target=\"_parent\"><img src=\"https://colab.research.google.com/assets/colab-badge.svg\" alt=\"Open In Colab\"/></a>"
      ]
    },
    {
      "cell_type": "code",
      "execution_count": null,
      "metadata": {
        "colab": {
          "base_uri": "https://localhost:8080/"
        },
        "id": "7le2x2FrgI89",
        "outputId": "ac2889a7-a36f-4be0-e7c5-550ae81e2140"
      },
      "outputs": [
        {
          "output_type": "stream",
          "name": "stdout",
          "text": [
            "\u001b[2K     \u001b[90m━━━━━━━━━━━━━━━━━━━━━━━━━━━━━━━━━━━━━━━━\u001b[0m \u001b[32m172.0/172.0 kB\u001b[0m \u001b[31m1.9 MB/s\u001b[0m eta \u001b[36m0:00:00\u001b[0m\n",
            "\u001b[2K   \u001b[90m━━━━━━━━━━━━━━━━━━━━━━━━━━━━━━━━━━━━━━━━\u001b[0m \u001b[32m3.2/3.2 MB\u001b[0m \u001b[31m39.2 MB/s\u001b[0m eta \u001b[36m0:00:00\u001b[0m\n",
            "\u001b[?25h"
          ]
        }
      ],
      "source": [
        "!pip install yt-dlp -qq\n"
      ]
    },
    {
      "cell_type": "code",
      "source": [
        "import subprocess\n",
        "import os\n",
        "\n",
        "# Function to download a YouTube video using yt-dlp and capture the output path\n",
        "def download_video(url):\n",
        "    try:\n",
        "        # Define the command for yt-dlp to download the highest quality video and save the output\n",
        "        command = ['yt-dlp', '-f', 'best', '-o', '%(title)s.%(ext)s', url]\n",
        "\n",
        "        # Run the command using subprocess\n",
        "        result = subprocess.run(command, stdout=subprocess.PIPE, stderr=subprocess.PIPE, text=True)\n",
        "\n",
        "        if result.returncode == 0:\n",
        "            print(\"Video downloaded successfully!\")\n",
        "\n",
        "            # Find the downloaded file by parsing the output (assuming it saves as title.ext)\n",
        "            command_output = result.stdout + result.stderr\n",
        "            print(\"Output log:\", command_output)  # For debugging, can remove later\n",
        "\n",
        "            # Extract the video title and extension if needed (assuming the default save format)\n",
        "            # Get the title using yt-dlp options or manually find it\n",
        "            # Assuming default folder is current working directory\n",
        "            for line in command_output.splitlines():\n",
        "                if '[download]' in line and 'Destination' in line:\n",
        "                    # Extract the file path from the log line\n",
        "                    file_path = line.split('Destination: ')[-1]\n",
        "                    return file_path\n",
        "        else:\n",
        "            print(\"An error occurred during the download process.\")\n",
        "            print(result.stderr)\n",
        "    except Exception as e:\n",
        "        print(f\"An error occurred: {e}\")\n",
        "\n",
        "# Replace with the desired YouTube video URL\n",
        "youtube_video_url = 'You_tube_url'\n",
        "file_path = download_video(youtube_video_url)\n",
        "\n",
        "if file_path:\n",
        "    print(f\"Downloaded file path: {file_path}\")\n"
      ],
      "metadata": {
        "colab": {
          "base_uri": "https://localhost:8080/"
        },
        "id": "CINcfvZegaB1",
        "outputId": "55a84361-2f5e-4180-e7c5-eaaa5eb2ac08"
      },
      "execution_count": null,
      "outputs": [
        {
          "output_type": "stream",
          "name": "stdout",
          "text": [
            "Video downloaded successfully!\n",
            "Output log: [youtube] Extracting URL: https://www.youtube.com/watch?v=yL9UJVtgPZY&t=126s\n",
            "[youtube] yL9UJVtgPZY: Downloading webpage\n",
            "[youtube] yL9UJVtgPZY: Downloading tv client config\n",
            "[youtube] yL9UJVtgPZY: Downloading player 1080ef44\n",
            "[youtube] yL9UJVtgPZY: Downloading tv player API JSON\n",
            "[youtube] yL9UJVtgPZY: Downloading ios player API JSON\n",
            "[youtube] yL9UJVtgPZY: Downloading m3u8 information\n",
            "[info] yL9UJVtgPZY: Downloading 1 format(s): 18\n",
            "[download] Destination: Anderson Cooper tries a schizophrenia simulator.mp4\n",
            "\n",
            "[download]   0.0% of   13.49MiB at  Unknown B/s ETA Unknown\n",
            "[download]   0.0% of   13.49MiB at    1.96MiB/s ETA 00:06  \n",
            "[download]   0.1% of   13.49MiB at  734.43KiB/s ETA 00:18\n",
            "[download]   0.1% of   13.49MiB at    1.39MiB/s ETA 00:09\n",
            "[download]   0.2% of   13.49MiB at    2.67MiB/s ETA 00:05\n",
            "[download]   0.5% of   13.49MiB at    2.74MiB/s ETA 00:04\n",
            "[download]   0.9% of   13.49MiB at    3.36MiB/s ETA 00:03\n",
            "[download]   1.8% of   13.49MiB at    1.98MiB/s ETA 00:06\n",
            "[download]   3.7% of   13.49MiB at    3.52MiB/s ETA 00:03\n",
            "[download]   7.4% of   13.49MiB at    6.38MiB/s ETA 00:01\n",
            "[download]  14.8% of   13.49MiB at   11.80MiB/s ETA 00:00\n",
            "[download]  29.7% of   13.49MiB at   21.59MiB/s ETA 00:00\n",
            "[download]  59.3% of   13.49MiB at   28.20MiB/s ETA 00:00\n",
            "[download]  72.9% of   13.49MiB at   32.25MiB/s ETA 00:00\n",
            "[download]  73.0% of   13.49MiB at  Unknown B/s ETA Unknown\n",
            "[download]  73.0% of   13.49MiB at    2.02MiB/s ETA 00:01  \n",
            "[download]  73.0% of   13.49MiB at    3.14MiB/s ETA 00:01\n",
            "[download]  73.1% of   13.49MiB at    5.13MiB/s ETA 00:00\n",
            "[download]  73.2% of   13.49MiB at    2.23MiB/s ETA 00:01\n",
            "[download]  73.4% of   13.49MiB at    2.44MiB/s ETA 00:01\n",
            "[download]  73.9% of   13.49MiB at    3.75MiB/s ETA 00:00\n",
            "[download]  74.8% of   13.49MiB at    5.48MiB/s ETA 00:00\n",
            "[download]  76.6% of   13.49MiB at    8.86MiB/s ETA 00:00\n",
            "[download]  80.4% of   13.49MiB at   14.61MiB/s ETA 00:00\n",
            "[download]  87.8% of   13.49MiB at   25.12MiB/s ETA 00:00\n",
            "[download] 100.0% of   13.49MiB at   30.56MiB/s ETA 00:00\n",
            "[download] 100% of   13.49MiB in 00:00:00 at 20.42MiB/s  \n",
            "WARNING: \"-f best\" selects the best pre-merged format which is often not the best option.\n",
            "         To let yt-dlp download and merge the best available formats, simply do not pass any format selection.\n",
            "         If you know what you are doing and want only the best pre-merged format, use \"-f b\" instead to suppress this warning\n",
            "\n",
            "Downloaded file path: Anderson Cooper tries a schizophrenia simulator.mp4\n"
          ]
        }
      ]
    },
    {
      "cell_type": "code",
      "source": [
        "# Assuming the video file is named 'input_video.mp4'\n",
        "!ffmpeg -i ap.mp4 -q:a 0 -map a audio_output.wav\n"
      ],
      "metadata": {
        "colab": {
          "base_uri": "https://localhost:8080/"
        },
        "id": "ojO1Zts-gcms",
        "outputId": "d0341a8d-a689-4571-9a3b-555b9c7d2473"
      },
      "execution_count": null,
      "outputs": [
        {
          "output_type": "stream",
          "name": "stdout",
          "text": [
            "ffmpeg version 4.4.2-0ubuntu0.22.04.1 Copyright (c) 2000-2021 the FFmpeg developers\n",
            "  built with gcc 11 (Ubuntu 11.2.0-19ubuntu1)\n",
            "  configuration: --prefix=/usr --extra-version=0ubuntu0.22.04.1 --toolchain=hardened --libdir=/usr/lib/x86_64-linux-gnu --incdir=/usr/include/x86_64-linux-gnu --arch=amd64 --enable-gpl --disable-stripping --enable-gnutls --enable-ladspa --enable-libaom --enable-libass --enable-libbluray --enable-libbs2b --enable-libcaca --enable-libcdio --enable-libcodec2 --enable-libdav1d --enable-libflite --enable-libfontconfig --enable-libfreetype --enable-libfribidi --enable-libgme --enable-libgsm --enable-libjack --enable-libmp3lame --enable-libmysofa --enable-libopenjpeg --enable-libopenmpt --enable-libopus --enable-libpulse --enable-librabbitmq --enable-librubberband --enable-libshine --enable-libsnappy --enable-libsoxr --enable-libspeex --enable-libsrt --enable-libssh --enable-libtheora --enable-libtwolame --enable-libvidstab --enable-libvorbis --enable-libvpx --enable-libwebp --enable-libx265 --enable-libxml2 --enable-libxvid --enable-libzimg --enable-libzmq --enable-libzvbi --enable-lv2 --enable-omx --enable-openal --enable-opencl --enable-opengl --enable-sdl2 --enable-pocketsphinx --enable-librsvg --enable-libmfx --enable-libdc1394 --enable-libdrm --enable-libiec61883 --enable-chromaprint --enable-frei0r --enable-libx264 --enable-shared\n",
            "  libavutil      56. 70.100 / 56. 70.100\n",
            "  libavcodec     58.134.100 / 58.134.100\n",
            "  libavformat    58. 76.100 / 58. 76.100\n",
            "  libavdevice    58. 13.100 / 58. 13.100\n",
            "  libavfilter     7.110.100 /  7.110.100\n",
            "  libswscale      5.  9.100 /  5.  9.100\n",
            "  libswresample   3.  9.100 /  3.  9.100\n",
            "  libpostproc    55.  9.100 / 55.  9.100\n",
            "Input #0, mov,mp4,m4a,3gp,3g2,mj2, from 'ap.mp4':\n",
            "  Metadata:\n",
            "    major_brand     : mp42\n",
            "    minor_version   : 0\n",
            "    compatible_brands: isommp42\n",
            "    creation_time   : 2025-01-03T02:31:46.000000Z\n",
            "    encoder         : Google\n",
            "  Duration: 00:05:03.48, start: 0.000000, bitrate: 372 kb/s\n",
            "  Stream #0:0(und): Video: h264 (Main) (avc1 / 0x31637661), yuv420p(tv, bt709), 640x360 [SAR 1:1 DAR 16:9], 240 kb/s, 30 fps, 30 tbr, 15360 tbn, 60 tbc (default)\n",
            "    Metadata:\n",
            "      creation_time   : 2025-01-03T02:31:46.000000Z\n",
            "      handler_name    : ISO Media file produced by Google Inc. Created on: 01/02/2025.\n",
            "      vendor_id       : [0][0][0][0]\n",
            "  Stream #0:1(eng): Audio: aac (LC) (mp4a / 0x6134706D), 44100 Hz, stereo, fltp, 127 kb/s (default)\n",
            "    Metadata:\n",
            "      creation_time   : 2025-01-03T02:31:46.000000Z\n",
            "      handler_name    : ISO Media file produced by Google Inc. Created on: 01/02/2025.\n",
            "      vendor_id       : [0][0][0][0]\n",
            "Stream mapping:\n",
            "  Stream #0:1 -> #0:0 (aac (native) -> pcm_s16le (native))\n",
            "Press [q] to stop, [?] for help\n",
            "Output #0, wav, to 'audio_output.wav':\n",
            "  Metadata:\n",
            "    major_brand     : mp42\n",
            "    minor_version   : 0\n",
            "    compatible_brands: isommp42\n",
            "    ISFT            : Lavf58.76.100\n",
            "  Stream #0:0(eng): Audio: pcm_s16le ([1][0][0][0] / 0x0001), 44100 Hz, stereo, s16, 1411 kb/s (default)\n",
            "    Metadata:\n",
            "      creation_time   : 2025-01-03T02:31:46.000000Z\n",
            "      handler_name    : ISO Media file produced by Google Inc. Created on: 01/02/2025.\n",
            "      vendor_id       : [0][0][0][0]\n",
            "      encoder         : Lavc58.134.100 pcm_s16le\n",
            "size=   52280kB time=00:05:03.46 bitrate=1411.3kbits/s speed= 491x    \n",
            "video:0kB audio:52280kB subtitle:0kB other streams:0kB global headers:0kB muxing overhead: 0.000146%\n"
          ]
        }
      ]
    },
    {
      "cell_type": "markdown",
      "source": [
        "Now install deepgram packages!"
      ],
      "metadata": {
        "id": "BqAAGPEvgg9v"
      }
    },
    {
      "cell_type": "code",
      "source": [
        "!pip install deepgram-sdk\n"
      ],
      "metadata": {
        "colab": {
          "base_uri": "https://localhost:8080/"
        },
        "id": "SOeGU4Y9gnpg",
        "outputId": "d5e3802a-e032-43c6-834d-c6a115a2b722"
      },
      "execution_count": null,
      "outputs": [
        {
          "output_type": "stream",
          "name": "stdout",
          "text": [
            "Collecting deepgram-sdk\n",
            "  Downloading deepgram_sdk-3.8.0-py3-none-any.whl.metadata (13 kB)\n",
            "Requirement already satisfied: httpx>=0.25.2 in /usr/local/lib/python3.11/dist-packages (from deepgram-sdk) (0.28.1)\n",
            "Collecting websockets<14.0,>=12.0 (from deepgram-sdk)\n",
            "  Downloading websockets-13.1-cp311-cp311-manylinux_2_5_x86_64.manylinux1_x86_64.manylinux_2_17_x86_64.manylinux2014_x86_64.whl.metadata (6.8 kB)\n",
            "Collecting dataclasses-json>=0.6.3 (from deepgram-sdk)\n",
            "  Downloading dataclasses_json-0.6.7-py3-none-any.whl.metadata (25 kB)\n",
            "Requirement already satisfied: typing_extensions>=4.9.0 in /usr/local/lib/python3.11/dist-packages (from deepgram-sdk) (4.12.2)\n",
            "Requirement already satisfied: aiohttp>=3.9.1 in /usr/local/lib/python3.11/dist-packages (from deepgram-sdk) (3.11.11)\n",
            "Collecting aiofiles>=23.2.1 (from deepgram-sdk)\n",
            "  Downloading aiofiles-24.1.0-py3-none-any.whl.metadata (10 kB)\n",
            "Collecting aenum>=3.1.0 (from deepgram-sdk)\n",
            "  Downloading aenum-3.1.15-py3-none-any.whl.metadata (3.7 kB)\n",
            "Collecting deprecation>=2.1.0 (from deepgram-sdk)\n",
            "  Downloading deprecation-2.1.0-py2.py3-none-any.whl.metadata (4.6 kB)\n",
            "Requirement already satisfied: aiohappyeyeballs>=2.3.0 in /usr/local/lib/python3.11/dist-packages (from aiohttp>=3.9.1->deepgram-sdk) (2.4.4)\n",
            "Requirement already satisfied: aiosignal>=1.1.2 in /usr/local/lib/python3.11/dist-packages (from aiohttp>=3.9.1->deepgram-sdk) (1.3.2)\n",
            "Requirement already satisfied: attrs>=17.3.0 in /usr/local/lib/python3.11/dist-packages (from aiohttp>=3.9.1->deepgram-sdk) (25.1.0)\n",
            "Requirement already satisfied: frozenlist>=1.1.1 in /usr/local/lib/python3.11/dist-packages (from aiohttp>=3.9.1->deepgram-sdk) (1.5.0)\n",
            "Requirement already satisfied: multidict<7.0,>=4.5 in /usr/local/lib/python3.11/dist-packages (from aiohttp>=3.9.1->deepgram-sdk) (6.1.0)\n",
            "Requirement already satisfied: propcache>=0.2.0 in /usr/local/lib/python3.11/dist-packages (from aiohttp>=3.9.1->deepgram-sdk) (0.2.1)\n",
            "Requirement already satisfied: yarl<2.0,>=1.17.0 in /usr/local/lib/python3.11/dist-packages (from aiohttp>=3.9.1->deepgram-sdk) (1.18.3)\n",
            "Collecting marshmallow<4.0.0,>=3.18.0 (from dataclasses-json>=0.6.3->deepgram-sdk)\n",
            "  Downloading marshmallow-3.26.0-py3-none-any.whl.metadata (7.3 kB)\n",
            "Collecting typing-inspect<1,>=0.4.0 (from dataclasses-json>=0.6.3->deepgram-sdk)\n",
            "  Downloading typing_inspect-0.9.0-py3-none-any.whl.metadata (1.5 kB)\n",
            "Requirement already satisfied: packaging in /usr/local/lib/python3.11/dist-packages (from deprecation>=2.1.0->deepgram-sdk) (24.2)\n",
            "Requirement already satisfied: anyio in /usr/local/lib/python3.11/dist-packages (from httpx>=0.25.2->deepgram-sdk) (3.7.1)\n",
            "Requirement already satisfied: certifi in /usr/local/lib/python3.11/dist-packages (from httpx>=0.25.2->deepgram-sdk) (2024.12.14)\n",
            "Requirement already satisfied: httpcore==1.* in /usr/local/lib/python3.11/dist-packages (from httpx>=0.25.2->deepgram-sdk) (1.0.7)\n",
            "Requirement already satisfied: idna in /usr/local/lib/python3.11/dist-packages (from httpx>=0.25.2->deepgram-sdk) (3.10)\n",
            "Requirement already satisfied: h11<0.15,>=0.13 in /usr/local/lib/python3.11/dist-packages (from httpcore==1.*->httpx>=0.25.2->deepgram-sdk) (0.14.0)\n",
            "Collecting mypy-extensions>=0.3.0 (from typing-inspect<1,>=0.4.0->dataclasses-json>=0.6.3->deepgram-sdk)\n",
            "  Downloading mypy_extensions-1.0.0-py3-none-any.whl.metadata (1.1 kB)\n",
            "Requirement already satisfied: sniffio>=1.1 in /usr/local/lib/python3.11/dist-packages (from anyio->httpx>=0.25.2->deepgram-sdk) (1.3.1)\n",
            "Downloading deepgram_sdk-3.8.0-py3-none-any.whl (129 kB)\n",
            "\u001b[2K   \u001b[90m━━━━━━━━━━━━━━━━━━━━━━━━━━━━━━━━━━━━━━━━\u001b[0m \u001b[32m129.5/129.5 kB\u001b[0m \u001b[31m6.7 MB/s\u001b[0m eta \u001b[36m0:00:00\u001b[0m\n",
            "\u001b[?25hDownloading aenum-3.1.15-py3-none-any.whl (137 kB)\n",
            "\u001b[2K   \u001b[90m━━━━━━━━━━━━━━━━━━━━━━━━━━━━━━━━━━━━━━━━\u001b[0m \u001b[32m137.6/137.6 kB\u001b[0m \u001b[31m9.6 MB/s\u001b[0m eta \u001b[36m0:00:00\u001b[0m\n",
            "\u001b[?25hDownloading aiofiles-24.1.0-py3-none-any.whl (15 kB)\n",
            "Downloading dataclasses_json-0.6.7-py3-none-any.whl (28 kB)\n",
            "Downloading deprecation-2.1.0-py2.py3-none-any.whl (11 kB)\n",
            "Downloading websockets-13.1-cp311-cp311-manylinux_2_5_x86_64.manylinux1_x86_64.manylinux_2_17_x86_64.manylinux2014_x86_64.whl (164 kB)\n",
            "\u001b[2K   \u001b[90m━━━━━━━━━━━━━━━━━━━━━━━━━━━━━━━━━━━━━━━━\u001b[0m \u001b[32m164.8/164.8 kB\u001b[0m \u001b[31m10.8 MB/s\u001b[0m eta \u001b[36m0:00:00\u001b[0m\n",
            "\u001b[?25hDownloading marshmallow-3.26.0-py3-none-any.whl (50 kB)\n",
            "\u001b[2K   \u001b[90m━━━━━━━━━━━━━━━━━━━━━━━━━━━━━━━━━━━━━━━━\u001b[0m \u001b[32m50.8/50.8 kB\u001b[0m \u001b[31m3.3 MB/s\u001b[0m eta \u001b[36m0:00:00\u001b[0m\n",
            "\u001b[?25hDownloading typing_inspect-0.9.0-py3-none-any.whl (8.8 kB)\n",
            "Downloading mypy_extensions-1.0.0-py3-none-any.whl (4.7 kB)\n",
            "Installing collected packages: aenum, websockets, mypy-extensions, marshmallow, deprecation, aiofiles, typing-inspect, dataclasses-json, deepgram-sdk\n",
            "  Attempting uninstall: websockets\n",
            "    Found existing installation: websockets 14.2\n",
            "    Uninstalling websockets-14.2:\n",
            "      Successfully uninstalled websockets-14.2\n",
            "Successfully installed aenum-3.1.15 aiofiles-24.1.0 dataclasses-json-0.6.7 deepgram-sdk-3.8.0 deprecation-2.1.0 marshmallow-3.26.0 mypy-extensions-1.0.0 typing-inspect-0.9.0 websockets-13.1\n"
          ]
        }
      ]
    },
    {
      "cell_type": "code",
      "source": [
        "!pip show deepgram-sdk\n"
      ],
      "metadata": {
        "colab": {
          "base_uri": "https://localhost:8080/"
        },
        "id": "p-IZPnZBg9gb",
        "outputId": "bd34b942-19d5-4a0d-bf46-1dda9adcddda"
      },
      "execution_count": null,
      "outputs": [
        {
          "output_type": "stream",
          "name": "stdout",
          "text": [
            "Name: deepgram-sdk\n",
            "Version: 3.8.0\n",
            "Summary: The official Python SDK for the Deepgram automated speech recognition platform.\n",
            "Home-page: https://github.com/deepgram/deepgram-python-sdk\n",
            "Author: Deepgram\n",
            "Author-email: devrel@deepgram.com\n",
            "License: MIT\n",
            "Location: /usr/local/lib/python3.11/dist-packages\n",
            "Requires: aenum, aiofiles, aiohttp, dataclasses-json, deprecation, httpx, typing_extensions, websockets\n",
            "Required-by: \n"
          ]
        }
      ]
    },
    {
      "cell_type": "code",
      "source": [
        "from deepgram import Deepgram\n",
        "import asyncio\n",
        "import json\n"
      ],
      "metadata": {
        "id": "X2W9fR1Cgq1k"
      },
      "execution_count": null,
      "outputs": []
    },
    {
      "cell_type": "code",
      "source": [
        "!pip install requests\n"
      ],
      "metadata": {
        "colab": {
          "base_uri": "https://localhost:8080/"
        },
        "id": "zgZM6tnVgs-T",
        "outputId": "fe734d1d-f604-408d-8547-ce8c00e688db"
      },
      "execution_count": null,
      "outputs": [
        {
          "output_type": "stream",
          "name": "stdout",
          "text": [
            "Requirement already satisfied: requests in /usr/local/lib/python3.11/dist-packages (2.32.3)\n",
            "Requirement already satisfied: charset-normalizer<4,>=2 in /usr/local/lib/python3.11/dist-packages (from requests) (3.4.1)\n",
            "Requirement already satisfied: idna<4,>=2.5 in /usr/local/lib/python3.11/dist-packages (from requests) (3.10)\n",
            "Requirement already satisfied: urllib3<3,>=1.21.1 in /usr/local/lib/python3.11/dist-packages (from requests) (2.3.0)\n",
            "Requirement already satisfied: certifi>=2017.4.17 in /usr/local/lib/python3.11/dist-packages (from requests) (2024.12.14)\n"
          ]
        }
      ]
    },
    {
      "cell_type": "code",
      "source": [
        "import requests\n",
        "import json\n",
        "\n",
        "DEEPGRAM_API_KEY = 'your_api_key'\n",
        "AUDIO_FILE = '/content/audio_output.wav'\n",
        "# Set the headers\n",
        "headers = {\n",
        "    'Authorization': f'Token {DEEPGRAM_API_KEY}',\n",
        "    'Content-Type': 'audio/wav'\n",
        "}\n",
        "\n",
        "# Set the parameters for the API request\n",
        "params = {\n",
        "    'diarize': 'true',\n",
        "    'utterances': 'true',\n",
        "    'punctuate': 'true'  # Optional: Add punctuation to the transcript\n",
        "}\n",
        "\n",
        "# Read the audio file in binary mode\n",
        "with open(AUDIO_FILE, 'rb') as audio_file:\n",
        "    audio_data = audio_file.read()\n",
        "\n",
        "# Send the POST request to Deepgram's API\n",
        "response = requests.post(\n",
        "    'https://api.deepgram.com/v1/listen',\n",
        "    headers=headers,\n",
        "    params=params,\n",
        "    data=audio_data\n",
        ")\n",
        "\n",
        "# Check if the request was successful\n",
        "if response.status_code == 200:\n",
        "    # Parse the JSON response\n",
        "    result = response.json()\n",
        "    # Check if 'results' and 'utterances' are in the response\n",
        "    if 'results' in result and 'utterances' in result['results']:\n",
        "        utterances = result['results']['utterances']\n",
        "        for utterance in utterances:\n",
        "            speaker = utterance['speaker']\n",
        "            start_time = utterance['start']\n",
        "            end_time = utterance['end']\n",
        "            transcript = utterance['transcript']\n",
        "            print(f\"Speaker {speaker} [{start_time:.2f}s - {end_time:.2f}s]: {transcript}\")\n",
        "    else:\n",
        "        print(\"Diarization data not found in the response.\")\n",
        "else:\n",
        "    print(f\"Request failed with status code {response.status_code}: {response.text}\")\n"
      ],
      "metadata": {
        "colab": {
          "base_uri": "https://localhost:8080/"
        },
        "id": "myTBNJLvgxGn",
        "outputId": "395a2785-8dd9-465a-8dec-93d4b423a3ca"
      },
      "execution_count": null,
      "outputs": [
        {
          "output_type": "stream",
          "name": "stdout",
          "text": [
            "Speaker 0 [1.16s - 12.11s]: So I'm gonna put these phones in and they're gonna try to do a a series of tests. Don't. Okay. So I'm now hearing sort of whispers and and voices in my head and let's The first test is and some number puzzles. Listen.\n",
            "Speaker 1 [12.75s - 14.76s]: You sucked and they know it?\n",
            "Speaker 1 [16.04s - 17.48s]: Can't you get this right?\n",
            "Speaker 0 [19.32s - 19.48s]: Okay.\n",
            "Speaker 0 [20.68s - 24.92s]: So I'd did this test for three minutes, and I did not get a single one.\n",
            "Speaker 0 [26.21s - 27.24s]: It's very hard to\n",
            "Speaker 0 [28.52s - 33.32s]: it's hard to concentrate when if it's like music or something constant, it's easy, but\n",
            "Speaker 0 [34.17s - 39.84s]: people talking to you is very difficult. So now I'm gonna be asked a a series of questions by a producer Susan,\n",
            "Speaker 0 [40.40s - 43.84s]: and these are basically a series of questions that a person would be asked and\n",
            "Speaker 0 [44.22s - 45.49s]: they were being a minute to a hospital.\n",
            "Speaker 2 [46.05s - 47.08s]: Can you tell me what date it is?\n",
            "Speaker 0 [48.51s - 49.23s]: Yeah. It's,\n",
            "Speaker 0 [49.87s - 50.34s]: Sunday,\n",
            "Speaker 0 [52.27s - 52.67s]: June.\n",
            "Speaker 0 [54.98s - 55.38s]: I don't know.\n",
            "Speaker 2 [56.33s - 63.05s]: What's the difference? Seven. So I'm gonna say five numbers, and I want you to repeat them back to me after I'm done. Okay. You're luke five\n",
            "Speaker 2 [63.42s - 65.33s]: twenty three u sixty seven.\n",
            "Speaker 2 [66.22s - 67.58s]: Two seventy six.\n",
            "Speaker 0 [68.54s - 70.47s]: Five twenty three sixty seven\n",
            "Speaker 2 [71.41s - 74.60s]: years. Something seventy six. Enough... I'm gonna say five words.\n",
            "Speaker 2 [75.40s - 77.15s]: You don't have to repeat them, but just listen to them.\n",
            "Speaker 2 [77.87s - 78.75s]: You'll be the cat.\n",
            "Speaker 2 [81.08s - 89.96s]: Cigar, I'll make a damage and Rain. Make you. Okay. Can you name the last four presidents of the United States? Okay. For you to... Barack obama\n",
            "Speaker 0 [90.57s - 91.45s]: George bush here.\n",
            "Speaker 2 [92.98s - 93.30s]: Here.\n",
            "Speaker 2 [94.10s - 94.50s]: Right here.\n",
            "Speaker 0 [95.53s - 96.27s]: No clinton\n",
            "Speaker 0 [97.53s - 97.77s]: here.\n",
            "Speaker 0 [98.57s - 99.68s]: And George bush. Here?\n",
            "Speaker 2 [100.64s - 103.05s]: Here. So those five words I said before, can you remember\n",
            "Speaker 2 [103.43s - 103.75s]: here.\n",
            "Speaker 0 [104.71s - 105.35s]: Beauty no.\n",
            "Speaker 0 [106.16s - 109.42s]: It's hard when... Because sometimes the voices are, like, whispering,\n",
            "Speaker 0 [110.22s - 116.43s]: and sometimes they're aggressive and sometimes they're kind of comforting and Hear the tree. But again, with people kind of talking to you all the time. It's...\n",
            "Speaker 2 [117.22s - 118.42s]: It's okay. It's hard.\n",
            "Speaker 2 [119.21s - 119.77s]: Don't worry.\n",
            "Speaker 0 [120.82s - 123.00s]: Now we're later. Wanna try to make a boat\n",
            "Speaker 0 [124.26s - 125.45s]: Me following these instructions.\n",
            "Speaker 2 [126.33s - 127.21s]: It'll be okay.\n",
            "Speaker 2 [131.04s - 131.54s]: Junior\n",
            "Speaker 2 [132.16s - 132.64s]: here.\n",
            "Speaker 2 [133.92s - 134.48s]: Getting here.\n",
            "Speaker 1 [136.89s - 137.21s]: Shut up.\n",
            "Speaker 0 [138.01s - 142.82s]: I wanna talk back to the voices now, but it's really. It's really distracting. Don't so\n",
            "Speaker 1 [143.20s - 144.16s]: Not do.\n",
            "Speaker 1 [144.56s - 147.13s]: Do not touch that stuff. I.\n",
            "Speaker 1 [150.48s - 151.36s]: You suck.\n",
            "Speaker 1 [154.87s - 156.88s]: Are you looking at? This is easy.\n",
            "Speaker 0 [157.26s - 159.50s]: You wanna touch that? I can't get into that.\n",
            "Speaker 1 [160.53s - 163.03s]: Hand down. Keep your eyes down. Just\n",
            "Speaker 1 [164.62s - 165.42s]: just doing it.\n",
            "Speaker 1 [167.57s - 169.41s]: Filthy mind, leave it alone.\n",
            "Speaker 0 [170.53s - 173.80s]: It's also frustrating because they're telling me I can't do it, and\n",
            "Speaker 0 [178.36s - 186.89s]: So I didn't do a very good job with the boat. But it's just... It's really hard to... It's hard to focus when kind of people whispering to you and and talking to you.\n",
            "Speaker 2 [192.24s - 193.20s]: Just come clear.\n",
            "Speaker 2 [194.71s - 195.59s]: Come here to me.\n",
            "Speaker 2 [197.10s - 198.05s]: Come here for help.\n",
            "Speaker 0 [201.64s - 206.27s]: Hey. Do you have you a do you have yesterday's paper? Yesterday? Yesterday's newton near times?\n",
            "Speaker 0 [207.23s - 207.47s]: No.\n",
            "Speaker 0 [208.43s - 209.55s]: Okay. I'll just get this.\n",
            "Speaker 0 [214.33s - 223.07s]: It's really... It's incredibly distracting on the street to have somebody talking your head and and it makes you feel completely isolated from everyone else around you and\n",
            "Speaker 0 [223.85s - 227.46s]: you don't wanna engage in conversation with the people, you kind of fund yourself wanting to\n",
            "Speaker 0 [228.00s - 240.89s]: engage in conversation with the voice in your head. Because they're constantly being really negative and talking to you. And and everything they're saying relates to things that you're actually doing. Their sizing things you're doing. Is it's like, every... Somebody's, like you have a course watching you\n",
            "Speaker 0 [241.35s - 244.39s]: and commenting on what you're doing and you can't help it.\n",
            "Speaker 0 [245.59s - 248.73s]: I might literally find myself wanting to kind of respond to them\n",
            "Speaker 0 [249.44s - 254.69s]: kind of a tell to be quiet and it's it's incredibly unpleasant. This is a very, very unpleasant experiment.\n",
            "Speaker 0 [256.20s - 260.05s]: It's really, I'm in eye opening because it kind of really shows you what it's\n",
            "Speaker 0 [261.15s - 264.67s]: other people must be going through who who deal with this on a regular basis.\n",
            "Speaker 0 [266.34s - 269.54s]: But it also, like, I cannot wait to take this headphones talk because it's\n",
            "Speaker 0 [271.05s - 272.99s]: it's really depressing. It was very\n",
            "Speaker 0 [273.93s - 276.73s]: it's very negative. It makes you feel very, very negative.\n",
            "Speaker 0 [278.24s - 278.48s]: Yeah.\n",
            "Speaker 1 [280.47s - 292.69s]: It's very creepy. I wanted to stop. I down. Back up. Stand up now. I'll cut you off. I'll twenty thirty, forty stand up now walk away You're okay. Walk now. Pacifier.\n",
            "Speaker 2 [297.45s - 297.95s]: Acid.\n",
            "Speaker 2 [299.29s - 299.79s]: Un\n",
            "Speaker 2 [301.76s - 303.04s]: All the way to make it home.\n"
          ]
        }
      ]
    }
  ]
}